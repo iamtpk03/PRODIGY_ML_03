{
 "cells": [
  {
   "cell_type": "markdown",
   "id": "b8cca9f9-4252-456c-b9b4-c334ce8ae22f",
   "metadata": {},
   "source": [
    "<center><h1> Cat And Dog Image Classification Using SVM </h1> </center>"
   ]
  },
  {
   "cell_type": "markdown",
   "id": "3d463b5a-75d2-438a-9ddb-846ec4dd559d",
   "metadata": {},
   "source": [
    "One of the main advantages of using SVMs for image classification is that they can effectively handle high-dimensional data, such as images. Additionally, SVMs are less prone to overfitting than other algorithms such as neural networks.\n",
    "\n",
    "In machine learning where the model is trained by input data and expected output data.\n",
    "To create such a model, it is necessary to go through the following phases:\n",
    "\n",
    "* Import required libraries\n",
    "* Load the image and convert it to a dataframe.\n",
    "* separate input features and targets.\n",
    "* Split train and test value.\n",
    "* Build and train the model\n",
    "* Model evaluation.\n",
    "* Prediction\n"
   ]
  },
  {
   "cell_type": "code",
   "execution_count": 1,
   "id": "b78dd65d",
   "metadata": {
    "execution": {
     "iopub.execute_input": "2023-08-20T03:12:42.332510Z",
     "iopub.status.busy": "2023-08-20T03:12:42.332140Z",
     "iopub.status.idle": "2023-08-20T03:12:53.148317Z",
     "shell.execute_reply": "2023-08-20T03:12:53.147076Z",
     "shell.execute_reply.started": "2023-08-20T03:12:42.332475Z"
    }
   },
   "outputs": [
    {
     "ename": "FileNotFoundError",
     "evalue": "[Errno 2] No such file or directory: 'train.zip'",
     "output_type": "error",
     "traceback": [
      "\u001b[1;31m---------------------------------------------------------------------------\u001b[0m",
      "\u001b[1;31mFileNotFoundError\u001b[0m                         Traceback (most recent call last)",
      "\u001b[1;32m<ipython-input-1-e9125fd6a9d9>\u001b[0m in \u001b[0;36m<module>\u001b[1;34m\u001b[0m\n\u001b[0;32m      4\u001b[0m \u001b[0mdataset_train\u001b[0m \u001b[1;33m=\u001b[0m \u001b[1;34m\"train.zip\"\u001b[0m\u001b[1;33m\u001b[0m\u001b[0m\n\u001b[0;32m      5\u001b[0m \u001b[1;33m\u001b[0m\u001b[0m\n\u001b[1;32m----> 6\u001b[1;33m \u001b[1;32mwith\u001b[0m \u001b[0mZipFile\u001b[0m\u001b[1;33m(\u001b[0m\u001b[0mdataset_train\u001b[0m\u001b[1;33m,\u001b[0m \u001b[1;34m'r'\u001b[0m\u001b[1;33m)\u001b[0m \u001b[1;32mas\u001b[0m \u001b[0mzip\u001b[0m\u001b[1;33m:\u001b[0m\u001b[1;33m\u001b[0m\u001b[0m\n\u001b[0m\u001b[0;32m      7\u001b[0m     \u001b[0mzip\u001b[0m\u001b[1;33m.\u001b[0m\u001b[0mextractall\u001b[0m\u001b[1;33m(\u001b[0m\u001b[1;33m)\u001b[0m\u001b[1;33m\u001b[0m\u001b[0m\n",
      "\u001b[1;32mc:\\users\\dell\\appdata\\local\\programs\\python\\python36\\lib\\zipfile.py\u001b[0m in \u001b[0;36m__init__\u001b[1;34m(self, file, mode, compression, allowZip64)\u001b[0m\n\u001b[0;32m   1088\u001b[0m             \u001b[1;32mwhile\u001b[0m \u001b[1;32mTrue\u001b[0m\u001b[1;33m:\u001b[0m\u001b[1;33m\u001b[0m\u001b[0m\n\u001b[0;32m   1089\u001b[0m                 \u001b[1;32mtry\u001b[0m\u001b[1;33m:\u001b[0m\u001b[1;33m\u001b[0m\u001b[0m\n\u001b[1;32m-> 1090\u001b[1;33m                     \u001b[0mself\u001b[0m\u001b[1;33m.\u001b[0m\u001b[0mfp\u001b[0m \u001b[1;33m=\u001b[0m \u001b[0mio\u001b[0m\u001b[1;33m.\u001b[0m\u001b[0mopen\u001b[0m\u001b[1;33m(\u001b[0m\u001b[0mfile\u001b[0m\u001b[1;33m,\u001b[0m \u001b[0mfilemode\u001b[0m\u001b[1;33m)\u001b[0m\u001b[1;33m\u001b[0m\u001b[0m\n\u001b[0m\u001b[0;32m   1091\u001b[0m                 \u001b[1;32mexcept\u001b[0m \u001b[0mOSError\u001b[0m\u001b[1;33m:\u001b[0m\u001b[1;33m\u001b[0m\u001b[0m\n\u001b[0;32m   1092\u001b[0m                     \u001b[1;32mif\u001b[0m \u001b[0mfilemode\u001b[0m \u001b[1;32min\u001b[0m \u001b[0mmodeDict\u001b[0m\u001b[1;33m:\u001b[0m\u001b[1;33m\u001b[0m\u001b[0m\n",
      "\u001b[1;31mFileNotFoundError\u001b[0m: [Errno 2] No such file or directory: 'train.zip'"
     ]
    }
   ],
   "source": [
    "# extract dataset\n",
    "from zipfile import ZipFile\n",
    "\n",
    "dataset_train = \"train.zip\"\n",
    "    \n",
    "with ZipFile(dataset_train, 'r') as zip:\n",
    "    zip.extractall()"
   ]
  },
  {
   "cell_type": "code",
   "execution_count": null,
   "id": "c82c808c",
   "metadata": {
    "execution": {
     "iopub.execute_input": "2023-08-20T03:12:53.150275Z",
     "iopub.status.busy": "2023-08-20T03:12:53.150012Z",
     "iopub.status.idle": "2023-08-20T03:12:54.262650Z",
     "shell.execute_reply": "2023-08-20T03:12:54.261537Z",
     "shell.execute_reply.started": "2023-08-20T03:12:53.150252Z"
    }
   },
   "outputs": [],
   "source": [
    "import os\n",
    "import numpy as np\n",
    "from sklearn.svm import SVC\n",
    "from sklearn.metrics import classification_report, confusion_matrix\n",
    "import matplotlib.pyplot as plt\n",
    "from tqdm import tqdm\n",
    "import joblib\n",
    "from sklearn.model_selection import GridSearchCV\n",
    "import cv2\n",
    "import seaborn as sns\n",
    "import time\n",
    "from sklearn.decomposition import PCA\n",
    "from sklearn.pipeline import Pipeline\n",
    "from sklearn.model_selection import train_test_split"
   ]
  },
  {
   "cell_type": "code",
   "execution_count": null,
   "id": "a05d4ec3",
   "metadata": {
    "execution": {
     "iopub.execute_input": "2023-08-20T03:12:54.265648Z",
     "iopub.status.busy": "2023-08-20T03:12:54.264707Z",
     "iopub.status.idle": "2023-08-20T03:12:54.272046Z",
     "shell.execute_reply": "2023-08-20T03:12:54.270860Z",
     "shell.execute_reply.started": "2023-08-20T03:12:54.265621Z"
    }
   },
   "outputs": [],
   "source": [
    "folder_path = f\"Dataset/\"\n",
    "os.makedirs(folder_path, exist_ok=True)\n",
    "\n",
    "# define path\n",
    "confusion_image_path = os.path.join(folder_path, 'confusion matrix.png')\n",
    "classification_file_path = os.path.join(folder_path, 'classification_report.txt')\n",
    "model_file_path = os.path.join(folder_path, \"svm_model.pkl\")\n",
    "\n",
    "# Path dataset\n",
    "dataset_dir = \"Dataset/\"\n",
    "train_dir = os.path.join(dataset_dir, \"train\")\n",
    "test_dir = os.path.join(dataset_dir, \"test1\")"
   ]
  },
  {
   "cell_type": "code",
   "execution_count": null,
   "id": "8335a27a",
   "metadata": {
    "execution": {
     "iopub.execute_input": "2023-08-20T03:12:54.274789Z",
     "iopub.status.busy": "2023-08-20T03:12:54.274491Z",
     "iopub.status.idle": "2023-08-20T03:13:37.706207Z",
     "shell.execute_reply": "2023-08-20T03:13:37.704830Z",
     "shell.execute_reply.started": "2023-08-20T03:12:54.274764Z"
    }
   },
   "outputs": [],
   "source": [
    "# load data, preprocessing data, and labeling\n",
    "# dog = 1, cat = 0\n",
    "train_images = os.listdir(train_dir)\n",
    "features = []\n",
    "labels = []\n",
    "image_size = (50, 50)\n",
    "\n",
    "# Proses train images\n",
    "for image in tqdm(train_images, desc=\"Processing Train Images\"):\n",
    "    if image[0:3] == 'cat' :\n",
    "        label = 0\n",
    "    else :\n",
    "        label = 1\n",
    "    image_read = cv2.imread(train_dir+\"/\"+image)\n",
    "    image_resized = cv2.resize(image_read, image_size)\n",
    "    image_normalized = image_resized / 255.0\n",
    "    image_flatten = image_normalized.flatten()\n",
    "    features.append(image_flatten)\n",
    "    labels.append(label)"
   ]
  },
  {
   "cell_type": "code",
   "execution_count": null,
   "id": "054b7066",
   "metadata": {
    "execution": {
     "iopub.execute_input": "2023-08-20T03:13:37.708409Z",
     "iopub.status.busy": "2023-08-20T03:13:37.707687Z",
     "iopub.status.idle": "2023-08-20T03:13:37.713697Z",
     "shell.execute_reply": "2023-08-20T03:13:37.712263Z",
     "shell.execute_reply.started": "2023-08-20T03:13:37.708378Z"
    }
   },
   "outputs": [],
   "source": [
    "del train_images"
   ]
  },
  {
   "cell_type": "code",
   "execution_count": null,
   "id": "a646d9a0",
   "metadata": {
    "execution": {
     "iopub.execute_input": "2023-08-20T03:13:37.715013Z",
     "iopub.status.busy": "2023-08-20T03:13:37.714768Z",
     "iopub.status.idle": "2023-08-20T03:13:38.099819Z",
     "shell.execute_reply": "2023-08-20T03:13:38.099179Z",
     "shell.execute_reply.started": "2023-08-20T03:13:37.714989Z"
    }
   },
   "outputs": [],
   "source": [
    "features = np.asarray(features)\n",
    "labels = np.asarray(labels)\n",
    "\n",
    "# train test split\n",
    "X_train, X_test, y_train, y_test = train_test_split(features, labels, test_size=0.2, shuffle=True, random_state=42)"
   ]
  },
  {
   "cell_type": "code",
   "execution_count": null,
   "id": "44762227",
   "metadata": {
    "execution": {
     "iopub.execute_input": "2023-08-20T03:13:38.101147Z",
     "iopub.status.busy": "2023-08-20T03:13:38.100790Z",
     "iopub.status.idle": "2023-08-20T03:13:38.106441Z",
     "shell.execute_reply": "2023-08-20T03:13:38.105829Z",
     "shell.execute_reply.started": "2023-08-20T03:13:38.101126Z"
    }
   },
   "outputs": [],
   "source": [
    "del features\n",
    "del labels"
   ]
  },
  {
   "cell_type": "code",
   "execution_count": null,
   "id": "fd8f10c8",
   "metadata": {
    "execution": {
     "iopub.execute_input": "2023-08-20T03:13:38.107720Z",
     "iopub.status.busy": "2023-08-20T03:13:38.107355Z",
     "iopub.status.idle": "2023-08-20T03:13:38.120180Z",
     "shell.execute_reply": "2023-08-20T03:13:38.119086Z",
     "shell.execute_reply.started": "2023-08-20T03:13:38.107700Z"
    }
   },
   "outputs": [],
   "source": [
    "# PCA, SVM, & Pipeline\n",
    "n_components = 0.8\n",
    "pca = PCA(n_components=n_components)\n",
    "svm = SVC()\n",
    "pca = PCA(n_components=n_components, random_state=42)\n",
    "pipeline = Pipeline([\n",
    "    ('pca', pca),\n",
    "    ('svm', svm)\n",
    "])"
   ]
  },
  {
   "cell_type": "code",
   "execution_count": null,
   "id": "d8d3d9ff",
   "metadata": {
    "execution": {
     "iopub.execute_input": "2023-08-20T03:13:38.121825Z",
     "iopub.status.busy": "2023-08-20T03:13:38.121564Z",
     "iopub.status.idle": "2023-08-20T03:13:38.135062Z",
     "shell.execute_reply": "2023-08-20T03:13:38.134296Z",
     "shell.execute_reply.started": "2023-08-20T03:13:38.121805Z"
    }
   },
   "outputs": [],
   "source": [
    "param_grid = {\n",
    "    'pca__n_components': [2, 1, 0.9, 0.8],\n",
    "    'svm__kernel': ['linear', 'rbf', 'poly', 'sigmoid'],\n",
    "}"
   ]
  },
  {
   "cell_type": "code",
   "execution_count": null,
   "id": "3f6fadca",
   "metadata": {
    "execution": {
     "iopub.execute_input": "2023-08-20T03:13:38.138198Z",
     "iopub.status.busy": "2023-08-20T03:13:38.137408Z",
     "iopub.status.idle": "2023-08-20T05:35:44.898617Z",
     "shell.execute_reply": "2023-08-20T05:35:44.895939Z",
     "shell.execute_reply.started": "2023-08-20T03:13:38.138174Z"
    }
   },
   "outputs": [],
   "source": [
    "# Hitung waktu training\n",
    "start_time = time.time()\n",
    "\n",
    "grid_search = GridSearchCV(pipeline, param_grid, cv=3, verbose=4)\n",
    "grid_search.fit(X_train, y_train)\n",
    "\n",
    "# Hitung waktu training\n",
    "end_time = time.time()"
   ]
  },
  {
   "cell_type": "code",
   "execution_count": null,
   "id": "738e3df2",
   "metadata": {
    "execution": {
     "iopub.execute_input": "2023-08-20T05:35:44.902750Z",
     "iopub.status.busy": "2023-08-20T05:35:44.902002Z",
     "iopub.status.idle": "2023-08-20T05:35:44.909483Z",
     "shell.execute_reply": "2023-08-20T05:35:44.908111Z",
     "shell.execute_reply.started": "2023-08-20T05:35:44.902677Z"
    }
   },
   "outputs": [],
   "source": [
    "del X_train\n",
    "del y_train"
   ]
  },
  {
   "cell_type": "code",
   "execution_count": null,
   "id": "75a48001",
   "metadata": {
    "execution": {
     "iopub.execute_input": "2023-08-20T05:35:44.911881Z",
     "iopub.status.busy": "2023-08-20T05:35:44.911457Z",
     "iopub.status.idle": "2023-08-20T05:35:44.934019Z",
     "shell.execute_reply": "2023-08-20T05:35:44.933144Z",
     "shell.execute_reply.started": "2023-08-20T05:35:44.911834Z"
    }
   },
   "outputs": [],
   "source": [
    "# Mendapatkan model terbaik dan parameter terbaik\n",
    "best_pipeline = grid_search.best_estimator_\n",
    "best_params = grid_search.best_params_\n",
    "best_score = grid_search.best_score_\n",
    "\n",
    "print(\"Best Parameters: \", best_params)\n",
    "print(\"Best Score: \", best_score)"
   ]
  },
  {
   "cell_type": "code",
   "execution_count": null,
   "id": "c595d007",
   "metadata": {
    "execution": {
     "iopub.execute_input": "2023-08-20T05:35:44.935898Z",
     "iopub.status.busy": "2023-08-20T05:35:44.935546Z",
     "iopub.status.idle": "2023-08-20T05:36:10.189333Z",
     "shell.execute_reply": "2023-08-20T05:36:10.187937Z",
     "shell.execute_reply.started": "2023-08-20T05:35:44.935876Z"
    }
   },
   "outputs": [],
   "source": [
    "# Evaluation on test dataset\n",
    "accuracy = best_pipeline.score(X_test, y_test)\n",
    "print(\"Accuracy:\", accuracy)"
   ]
  },
  {
   "cell_type": "code",
   "execution_count": null,
   "id": "06ca62aa",
   "metadata": {
    "execution": {
     "iopub.execute_input": "2023-08-20T05:36:10.271224Z",
     "iopub.status.busy": "2023-08-20T05:36:10.270011Z",
     "iopub.status.idle": "2023-08-20T05:36:35.388213Z",
     "shell.execute_reply": "2023-08-20T05:36:35.386304Z",
     "shell.execute_reply.started": "2023-08-20T05:36:10.271169Z"
    }
   },
   "outputs": [],
   "source": [
    "y_pred = best_pipeline.predict(X_test)\n",
    "\n",
    "# classification report\n",
    "target_names = ['Cat', 'Dog']\n",
    "classification_rep = classification_report(y_test, y_pred, target_names=target_names)\n",
    "print(\"Classification Report:\\n\", classification_rep)\n",
    "\n",
    "with open(classification_file_path, 'w') as file:\n",
    "    file.write(classification_rep)"
   ]
  },
  {
   "cell_type": "code",
   "execution_count": null,
   "id": "fd521141",
   "metadata": {
    "execution": {
     "iopub.execute_input": "2023-08-20T05:36:35.390696Z",
     "iopub.status.busy": "2023-08-20T05:36:35.389881Z",
     "iopub.status.idle": "2023-08-20T05:36:35.731365Z",
     "shell.execute_reply": "2023-08-20T05:36:35.730095Z",
     "shell.execute_reply.started": "2023-08-20T05:36:35.390664Z"
    }
   },
   "outputs": [],
   "source": [
    "# Confusion matrix\n",
    "cm = confusion_matrix(y_test, y_pred)\n",
    "sns.heatmap(cm, annot=True, fmt=\"d\", cmap=\"Blues\")\n",
    "plt.xlabel('Predicted labels')\n",
    "plt.ylabel('True labels')\n",
    "plt.savefig(confusion_image_path)\n",
    "plt.show()"
   ]
  }
 ],
 "metadata": {
  "kernelspec": {
   "display_name": "Python 3",
   "language": "python",
   "name": "python3"
  },
  "language_info": {
   "codemirror_mode": {
    "name": "ipython",
    "version": 3
   },
   "file_extension": ".py",
   "mimetype": "text/x-python",
   "name": "python",
   "nbconvert_exporter": "python",
   "pygments_lexer": "ipython3",
   "version": "3.6.2"
  }
 },
 "nbformat": 4,
 "nbformat_minor": 5
}
